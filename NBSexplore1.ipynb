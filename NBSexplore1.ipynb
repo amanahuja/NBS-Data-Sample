{
 "metadata": {
  "name": "NBSexplore1"
 }, 
 "nbformat": 2, 
 "worksheets": [
  {
   "cells": [
    {
     "cell_type": "markdown", 
     "source": [
      "# NBS Data: Exploring 1", 
      "", 
      "After the `load` and then `clean` of sample data, we now have a working ([Pandas](http://pandas.pydata.org/) dataframe to explore. ", 
      "I'll poke around with the data here, and the once we know what type of analysis we are doing we can implement it in the `do` and `function` files."
     ]
    }, 
    {
     "cell_type": "code", 
     "collapsed": false, 
     "input": [
      "from pandas import *", 
      "", 
      "#Move to working directory", 
      "import os", 
      "os.chdir('C:\\Users\\Aman\\Documents\\Projects\\NextBigSound\\NBS-Data-Sample')", 
      "", 
      "#Set data directory", 
      "datadir = 'data'", 
      "path = os.path.join(os.getcwd(), datadir)", 
      "", 
      "#Retrieve dataframes from the hdf5 file", 
      "store = HDFStore(os.path.join(path, 'NBSData.h5'))", 
      "basicdf = store['basic']", 
      "store.close()"
     ], 
     "language": "python", 
     "outputs": [], 
     "prompt_number": 6
    }, 
    {
     "cell_type": "code", 
     "collapsed": true, 
     "input": [], 
     "language": "python", 
     "outputs": [], 
     "prompt_number": "&nbsp;"
    }, 
    {
     "cell_type": "markdown", 
     "source": []
    }
   ]
  }
 ]
}