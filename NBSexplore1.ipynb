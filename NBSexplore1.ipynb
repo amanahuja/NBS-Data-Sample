{
 "metadata": {
  "name": "NBSexplore1"
 }, 
 "nbformat": 2, 
 "worksheets": [
  {
   "cells": [
    {
     "cell_type": "markdown", 
     "source": [
      "# NBS Data: Exploring 1", 
      "", 
      "After the `load` and then `clean` of sample data, we now have a working ([Pandas](http://pandas.pydata.org/) dataframe to explore. ", 
      "I'll poke around with the data here, and the once we know what type of analysis we are doing we can implement it in the `do` and `function` files.", 
      "", 
      "The following fetches our data into a dataframe called `basicdf`:"
     ]
    }, 
    {
     "cell_type": "code", 
     "collapsed": true, 
     "input": [
      "from pandas import *", 
      "", 
      "#Move to working directory", 
      "import os", 
      "os.chdir('C:\\Users\\Aman\\Documents\\Projects\\NextBigSound\\NBS-Data-Sample')", 
      "", 
      "#Set data directory", 
      "datadir = 'data'", 
      "path = os.path.join(os.getcwd(), datadir)", 
      "", 
      "#Retrieve dataframes from the hdf5 file", 
      "store = HDFStore(os.path.join(path, 'NBSData.h5'))", 
      "basicdf = store['basic']", 
      "store.close()"
     ], 
     "language": "python", 
     "outputs": [], 
     "prompt_number": 12
    }, 
    {
     "cell_type": "markdown", 
     "source": [
      "basicdf has the following data:"
     ]
    }, 
    {
     "cell_type": "code", 
     "collapsed": false, 
     "input": [
      "print basicdf.columns", 
      "print 'df index is: ', basicdf.index.names"
     ], 
     "language": "python", 
     "outputs": [
      {
       "output_type": "stream", 
       "stream": "stdout", 
       "text": [
        "array([Artist.ID, Day, DayOfWeek, Facebook.fans.d, Facebook.fans.t,", 
        "       Last.fm.plays.d, Last.fm.plays.t, MySpace.fans.d, MySpace.fans.t,", 
        "       MySpace.plays.d, MySpace.plays.t, Twitter.fans.d, Twitter.fans.t,", 
        "       Twitter.statuses.d, Twitter.statuses.t, YouTube.fans.d,", 
        "       YouTube.fans.t, YouTube.plays.d, YouTube.plays.t,", 
        "       iTunes.Album.Units.d, iTunes.Track.Units.d,", 
        "       MediaGuide.Radio.Spins.d, Pandora.fans.d, Pandora.fans.t,", 
        "       Rdio.fans.d, Rdio.fans.t, Rdio.plays.d, Rdio.plays.t,", 
        "       SiteCatalyst.Visits.d, SoundCloud.fans.d, SoundCloud.fans.t,", 
        "       SoundCloud.plays.d, SoundCloud.plays.t, Spotify.plays.d,", 
        "       Vevo.plays.d, Vevo.plays.t, Wikipedia.views.d], dtype=object)", 
        "df index is:  [&apos;artist&apos;, &apos;date&apos;]"
       ]
      }
     ], 
     "prompt_number": 13
    }, 
    {
     "cell_type": "markdown", 
     "source": [
      "We can slice the data conveniently. ", 
      "", 
      "The following shows us all the data for an artist with id=1035. "
     ]
    }, 
    {
     "cell_type": "code", 
     "collapsed": false, 
     "input": [
      "basicdf.ix[1035,:]"
     ], 
     "language": "python", 
     "outputs": [
      {
       "output_type": "pyout", 
       "prompt_number": 15, 
       "text": [
        "&lt;class &apos;pandas.core.frame.DataFrame&apos;&gt;", 
        "Index: 536 entries, 2010-08-31 17:00:00 to 2012-02-17 16:00:00", 
        "Data columns:", 
        "Artist.ID                   536  non-null values", 
        "Day                         536  non-null values", 
        "DayOfWeek                   536  non-null values", 
        "Facebook.fans.d             514  non-null values", 
        "Facebook.fans.t             524  non-null values", 
        "Last.fm.plays.d             187  non-null values", 
        "Last.fm.plays.t             293  non-null values", 
        "MySpace.fans.d              519  non-null values", 
        "MySpace.fans.t              527  non-null values", 
        "MySpace.plays.d             512  non-null values", 
        "MySpace.plays.t             522  non-null values", 
        "Twitter.fans.d              522  non-null values", 
        "Twitter.fans.t              528  non-null values", 
        "Twitter.statuses.d          171  non-null values", 
        "Twitter.statuses.t          174  non-null values", 
        "YouTube.fans.d              460  non-null values", 
        "YouTube.fans.t              489  non-null values", 
        "YouTube.plays.d             403  non-null values", 
        "YouTube.plays.t             413  non-null values", 
        "iTunes.Album.Units.d        534  non-null values", 
        "iTunes.Track.Units.d        534  non-null values", 
        "MediaGuide.Radio.Spins.d    295  non-null values", 
        "Pandora.fans.d              176  non-null values", 
        "Pandora.fans.t              181  non-null values", 
        "Rdio.fans.d                 114  non-null values", 
        "Rdio.fans.t                 130  non-null values", 
        "Rdio.plays.d                209  non-null values", 
        "Rdio.plays.t                230  non-null values", 
        "SiteCatalyst.Visits.d       536  non-null values", 
        "SoundCloud.fans.d           212  non-null values", 
        "SoundCloud.fans.t           218  non-null values", 
        "SoundCloud.plays.d          75  non-null values", 
        "SoundCloud.plays.t          78  non-null values", 
        "Spotify.plays.d             0  non-null values", 
        "Vevo.plays.d                0  non-null values", 
        "Vevo.plays.t                0  non-null values", 
        "Wikipedia.views.d           532  non-null values", 
        "dtypes: object(37)"
       ]
      }
     ], 
     "prompt_number": 15
    }, 
    {
     "cell_type": "markdown", 
     "source": [
      "Apparently the sample dataset spans from (for this user, anyway) from the end of August last year to February 17th of this year 2012. ", 
      "", 
      "    2010-08-31 17:00:00 to 2012-02-17 16:00:00", 
      "", 
      "It is awesome that we've converted the data into a timeseries. This gives us a lot of flexibility. "
     ]
    }, 
    {
     "cell_type": "code", 
     "collapsed": false, 
     "input": [
      "i1035twitterstatus = basicdf.ix[1035,:]['Twitter.statuses.d'] ", 
      "#stored into a new var for easy access", 
      "i1035twitterstatus.plot()", 
      "i1035twitterstatus.describe()"
     ], 
     "language": "python", 
     "outputs": [
      {
       "output_type": "pyout", 
       "prompt_number": 35, 
       "text": [
        "count     171", 
        "unique     21", 
        "top         1", 
        "freq       36"
       ]
      }, 
      {
       "output_type": "display_data", 
       "png": "[encoded data removed]"
      }
     ], 
     "prompt_number": 35
    }, 
    {
     "cell_type": "code", 
     "collapsed": false, 
     "input": [
      "ss = artist1035['Twitter.statuses.d'].summary("
     ], 
     "language": "python", 
     "outputs": [
      {
       "ename": "AttributeError", 
       "evalue": "'TimeSeries' object has no attribute 'summary'", 
       "output_type": "pyerr", 
       "traceback": [
        "<span class=\"ansired\">---------------------------------------------------------------------------</span>\n<span class=\"ansired\">AttributeError</span>                            Traceback (most recent call last)", 
        "<span class=\"ansigreen\">C:\\Users\\Aman\\Documents\\Projects\\NextBigSound\\NBS-Data-Sample\\&lt;ipython-input-23-e694550668f6&gt;</span> in <span class=\"ansicyan\">&lt;module&gt;</span><span class=\"ansiblue\">()</span>\n<span class=\"ansigreen\">----&gt; 1</span><span class=\"ansiyellow\"> </span>ss <span class=\"ansiyellow\">=</span> artist1035<span class=\"ansiyellow\">[</span><span class=\"ansiblue\">&apos;Twitter.statuses.d&apos;</span><span class=\"ansiyellow\">]</span><span class=\"ansiyellow\">.</span>summary<span class=\"ansiyellow\">(</span><span class=\"ansiyellow\">)</span><span class=\"ansiyellow\"></span>\n", 
        "<span class=\"ansired\">AttributeError</span>: &apos;TimeSeries&apos; object has no attribute &apos;summary&apos;"
       ]
      }
     ], 
     "prompt_number": 23
    }, 
    {
     "cell_type": "code", 
     "collapsed": true, 
     "input": [], 
     "language": "python", 
     "outputs": [], 
     "prompt_number": "&nbsp;"
    }
   ]
  }
 ]
}